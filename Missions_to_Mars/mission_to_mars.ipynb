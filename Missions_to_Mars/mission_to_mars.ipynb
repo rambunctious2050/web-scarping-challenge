{
 "cells": [
  {
   "cell_type": "markdown",
   "metadata": {},
   "source": [
    "Scrape the necessary information from the websites provided"
   ]
  },
  {
   "cell_type": "code",
   "execution_count": 1,
   "metadata": {},
   "outputs": [],
   "source": [
    "# Dependencies\n",
    "from splinter import Browser\n",
    "from bs4 import BeautifulSoup as bs\n",
    "import requests\n",
    "import time\n",
    "import pandas as pd\n",
    "from webdriver_manager.chrome import ChromeDriverManager"
   ]
  },
  {
   "cell_type": "code",
   "execution_count": 2,
   "metadata": {},
   "outputs": [
    {
     "name": "stderr",
     "output_type": "stream",
     "text": [
      "[WDM] - Current google-chrome version is 87.0.4280\n",
      "[WDM] - Get LATEST driver version for 87.0.4280\n",
      "[WDM] - Get LATEST driver version for 87.0.4280\n",
      "[WDM] - Trying to download new driver from http://chromedriver.storage.googleapis.com/87.0.4280.20/chromedriver_win32.zip\n"
     ]
    },
    {
     "name": "stdout",
     "output_type": "stream",
     "text": [
      " \n"
     ]
    },
    {
     "name": "stderr",
     "output_type": "stream",
     "text": [
      "[WDM] - Driver has been saved in cache [C:\\Users\\ramya\\.wdm\\drivers\\chromedriver\\win32\\87.0.4280.20]\n"
     ]
    }
   ],
   "source": [
    "# Configure settings for splinter\n",
    "executable_path = {\"executable_path\": ChromeDriverManager().install()}\n",
    "browser = Browser(\"chrome\", **executable_path, headless=False)"
   ]
  },
  {
   "cell_type": "code",
   "execution_count": 5,
   "metadata": {},
   "outputs": [],
   "source": [
    "# Part 1: NASA Mars News\n",
    "# Visit mars.nasa.gov/news site\n",
    "# Get html and parse it from mars events website using requests\n",
    "url = \"https://mars.nasa.gov/news/?page=0&per_page=40&order=publish_date+desc%2Ccreated_at+desc&search=&category=19%2C165%2C184%2C204&blank_scope=Latest\"\n",
    "browser.visit(url)\n",
    "# Scrape page into Soup\n",
    "html = browser.html\n",
    "soup = bs(html, \"html.parser\")"
   ]
  },
  {
   "cell_type": "code",
   "execution_count": 6,
   "metadata": {},
   "outputs": [
    {
     "name": "stdout",
     "output_type": "stream",
     "text": [
      "MOXIE Could Help Future Rockets Launch Off Mars\n",
      "NASA's Perseverance rover carries a device to convert Martian air into oxygen that, if produced on a larger scale, could be used not just for breathing, but also for fuel.\n"
     ]
    }
   ],
   "source": [
    "# Part 1: NASA Mars News- Find most recent news article title and description\n",
    "a = soup.find(\"body\", id=\"news\")\n",
    "b = a.find(\"ul\",class_=\"item_list\")\n",
    "c = b.find(\"li\",class_=\"slide\")\n",
    "d = c.find(\"div\",class_=\"image_and_description_container\")\n",
    "e = d.find(\"div\",class_=\"list_text\")\n",
    "f = e.find(\"div\",class_=\"content_title\")\n",
    "\n",
    "news_title = f.find(\"a\").text\n",
    "news_description = e.find(\"div\",class_=\"article_teaser_body\").text\n",
    "\n",
    "print(news_title)\n",
    "print(news_description)"
   ]
  },
  {
   "cell_type": "code",
   "execution_count": 7,
   "metadata": {},
   "outputs": [],
   "source": [
    "# Part 2: JPL Mars Space Images Featured Image - Get html and parse it\n",
    "url = \"https://www.jpl.nasa.gov/spaceimages/?search=&category=Mars\"\n",
    "browser.visit(url)\n",
    "# Scrape page into Soup\n",
    "html = browser.html\n",
    "soup = bs(html, \"html.parser\")"
   ]
  },
  {
   "cell_type": "code",
   "execution_count": 8,
   "metadata": {},
   "outputs": [
    {
     "data": {
      "text/plain": [
       "'https://www.jpl.nasa.gov/spaceimages/images/largesize/PIA20057_hires.jpg'"
      ]
     },
     "execution_count": 8,
     "metadata": {},
     "output_type": "execute_result"
    }
   ],
   "source": [
    "# Part 2: JPL Mars Space Images Featured Image - Find the featured image url\n",
    "\n",
    "# Click on FULL IMAGE button\n",
    "link1 = browser.find_by_tag('a').links.find_by_partial_text(\"FULL IMAGE\")\n",
    "link2 = link1.click()\n",
    "time.sleep(10)\n",
    "\n",
    "# Click on More Info button\n",
    "link3 = browser.links.find_by_partial_text(\"more info\")\n",
    "link3.click()\n",
    "time.sleep(10)\n",
    "\n",
    "#Save full size of featured image \n",
    "link4 = browser.find_by_tag('figure[class=\"lede\"]')\n",
    "link5 = link4.find_by_tag('a')\n",
    "for image in link5:\n",
    "    featured_image_url = image[\"href\"]\n",
    "\n",
    "featured_image_url"
   ]
  },
  {
   "cell_type": "code",
   "execution_count": 9,
   "metadata": {},
   "outputs": [],
   "source": [
    "# Part 3: Mars Facts\n",
    "#Scrape page into soup\n",
    "url = \"https://space-facts.com/mars/\"\n",
    "browser.visit(url)\n",
    "html = browser.html\n",
    "soup = bs(html, \"html.parser\")  "
   ]
  },
  {
   "cell_type": "code",
   "execution_count": 10,
   "metadata": {},
   "outputs": [
    {
     "data": {
      "text/plain": [
       "'<table border=\"1\" class=\"dataframe\">\\n  <thead>\\n    <tr style=\"text-align: right;\">\\n      <th></th>\\n      <th>Metric</th>\\n      <th>Value</th>\\n    </tr>\\n  </thead>\\n  <tbody>\\n    <tr>\\n      <th>0</th>\\n      <td>Equatorial Diameter:</td>\\n      <td>6,792 km</td>\\n    </tr>\\n    <tr>\\n      <th>1</th>\\n      <td>Polar Diameter:</td>\\n      <td>6,752 km</td>\\n    </tr>\\n    <tr>\\n      <th>2</th>\\n      <td>Mass:</td>\\n      <td>6.39 × 10^23 kg (0.11 Earths)</td>\\n    </tr>\\n    <tr>\\n      <th>3</th>\\n      <td>Moons:</td>\\n      <td>2 (Phobos &amp; Deimos)</td>\\n    </tr>\\n    <tr>\\n      <th>4</th>\\n      <td>Orbit Distance:</td>\\n      <td>227,943,824 km (1.38 AU)</td>\\n    </tr>\\n    <tr>\\n      <th>5</th>\\n      <td>Orbit Period:</td>\\n      <td>687 days (1.9 years)</td>\\n    </tr>\\n    <tr>\\n      <th>6</th>\\n      <td>Surface Temperature:</td>\\n      <td>-87 to -5 °C</td>\\n    </tr>\\n    <tr>\\n      <th>7</th>\\n      <td>First Record:</td>\\n      <td>2nd millennium BC</td>\\n    </tr>\\n    <tr>\\n      <th>8</th>\\n      <td>Recorded By:</td>\\n      <td>Egyptian astronomers</td>\\n    </tr>\\n  </tbody>\\n</table>'"
      ]
     },
     "execution_count": 10,
     "metadata": {},
     "output_type": "execute_result"
    }
   ],
   "source": [
    "# Part 3: Mars Facts (Contd.)\n",
    "a = soup.find(\"table\",id=\"tablepress-p-mars-no-2\")\n",
    "b = a.find_all(\"tr\")\n",
    "metric = list()\n",
    "value = list()\n",
    "for row in b:\n",
    "    metric.append(row.find(\"td\",class_=\"column-1\").text)\n",
    "    value.append(row.find(\"td\",class_=\"column-2\").text)\n",
    "\n",
    "mars_facts = pd.DataFrame({'Metric': metric,\n",
    "                           'Value' : value}, \n",
    "                          columns = ['Metric','Value'])\n",
    "mars_facts.set_index('Metric')\n",
    "# convert dataframe to html\n",
    "mars_facts_html = mars_facts.to_html()\n",
    "mars_facts_html"
   ]
  },
  {
   "cell_type": "code",
   "execution_count": 89,
   "metadata": {},
   "outputs": [
    {
     "data": {
      "text/plain": [
       "(['Cerberus Hemisphere Enhanced',\n",
       "  'Schiaparelli Hemisphere Enhanced',\n",
       "  'Syrtis Major Hemisphere Enhanced',\n",
       "  'Valles Marineris Hemisphere Enhanced'],\n",
       " ['https://astrogeology.usgs.gov/cache/images/f5e372a36edfa389625da6d0cc25d905_cerberus_enhanced.tif_full.jpg',\n",
       "  'https://astrogeology.usgs.gov/cache/images/3778f7b43bbbc89d6e3cfabb3613ba93_schiaparelli_enhanced.tif_full.jpg',\n",
       "  'https://astrogeology.usgs.gov/cache/images/555e6403a6ddd7ba16ddb0e471cadcf7_syrtis_major_enhanced.tif_full.jpg',\n",
       "  'https://astrogeology.usgs.gov/cache/images/b3c7c6c9138f57b4756be9b9c43e3a48_valles_marineris_enhanced.tif_full.jpg'])"
      ]
     },
     "execution_count": 89,
     "metadata": {},
     "output_type": "execute_result"
    }
   ],
   "source": [
    "# Part 4: Mars Hemispheres\n",
    "\n",
    "#Scrape page into soup\n",
    "url = \"https://astrogeology.usgs.gov/search/results?q=hemisphere+enhanced&k1=target&v1=Mars\"\n",
    "browser.visit(url)\n",
    "html = browser.html\n",
    "soup = bs(html, \"html.parser\")  \n",
    "\n",
    "# Find the body of the page that includes the necessary links for the hemispheres\n",
    "link1 = browser.find_by_tag('div[id=\"product-section\"]')\n",
    "h_count = 0\n",
    "title = list()\n",
    "img_url = list()\n",
    "\n",
    "\n",
    "# Within the div: product-section, there are 4 class items. Each one corresponds to a different hemisphere \n",
    "while h_count < 4:\n",
    "    link2 = link1.find_by_tag('div[class=\"item\"]')[h_count]\n",
    "    link3 = link2.find_by_tag(\"a\")\n",
    "    link4 = link3.last\n",
    "    link5 = link4.click()\n",
    "    time.sleep(1)\n",
    "    # Get the hemisphere name, store in a list\n",
    "    hlink1 = browser.find_by_tag('section[class=\"block metadata\"]')\n",
    "    #title.append(hlink1.find_by_tag('h2[class=\"title\"]').text)\n",
    "    \n",
    "    # Get the full size image url for each hemisphere\n",
    "    hlink2 = browser.find_by_tag('div[id=\"wide-image\"]')\n",
    "    hlink3 = hlink2.find_by_tag('img[class=\"wide-image\"]')\n",
    "    #img_url.append(hlink3['src'])\n",
    "    \n",
    "    # Go back to the main page and start again for the next hemisphere\n",
    "    link6 = browser.back()\n",
    "    link1 = browser.find_by_tag('div[id=\"product-section\"]')\n",
    "    h_count +=1\n",
    "title, img_url\n",
    "# Save as a dictionary\n",
    "mars_facts = pd.DataFrame({'Metric': metric,\n",
    "                           'Value' : value}, \n",
    "                          columns = ['Metric','Value'])\n",
    "mars_facts.set_index('Metric')"
   ]
  }
 ],
 "metadata": {
  "kernelspec": {
   "display_name": "Python 3",
   "language": "python",
   "name": "python3"
  },
  "language_info": {
   "codemirror_mode": {
    "name": "ipython",
    "version": 3
   },
   "file_extension": ".py",
   "mimetype": "text/x-python",
   "name": "python",
   "nbconvert_exporter": "python",
   "pygments_lexer": "ipython3",
   "version": "3.6.10"
  }
 },
 "nbformat": 4,
 "nbformat_minor": 2
}
